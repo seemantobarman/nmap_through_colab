{
  "nbformat": 4,
  "nbformat_minor": 0,
  "metadata": {
    "colab": {
      "name": "nmap.ipynb",
      "provenance": [],
      "authorship_tag": "ABX9TyNalD4sAkuajhXZj6qJBXkY",
      "include_colab_link": true
    },
    "kernelspec": {
      "name": "python3",
      "display_name": "Python 3"
    }
  },
  "cells": [
    {
      "cell_type": "markdown",
      "metadata": {
        "id": "view-in-github",
        "colab_type": "text"
      },
      "source": [
        "<a href=\"https://colab.research.google.com/github/seemantobarman/nmap_through_colab/blob/master/nmap.ipynb\" target=\"_parent\"><img src=\"https://colab.research.google.com/assets/colab-badge.svg\" alt=\"Open In Colab\"/></a>"
      ]
    },
    {
      "cell_type": "code",
      "metadata": {
        "id": "qUBpixzvXhdX",
        "colab_type": "code",
        "colab": {}
      },
      "source": [
        "!pwd"
      ],
      "execution_count": 0,
      "outputs": []
    },
    {
      "cell_type": "code",
      "metadata": {
        "id": "U4J8_jgmXzR8",
        "colab_type": "code",
        "colab": {}
      },
      "source": [
        "!sudo apt-get install nmap"
      ],
      "execution_count": 0,
      "outputs": []
    },
    {
      "cell_type": "code",
      "metadata": {
        "id": "rd7P7ekBX-OU",
        "colab_type": "code",
        "colab": {
          "base_uri": "https://localhost:8080/",
          "height": 119
        },
        "outputId": "607f0f65-f4fb-4f46-8dff-c8fdfd53a863"
      },
      "source": [
        "!nmap --version"
      ],
      "execution_count": 3,
      "outputs": [
        {
          "output_type": "stream",
          "text": [
            "\n",
            "Nmap version 7.60 ( https://nmap.org )\n",
            "Platform: x86_64-pc-linux-gnu\n",
            "Compiled with: liblua-5.3.3 openssl-1.1.0g nmap-libssh2-1.8.0 libz-1.2.8 libpcre-8.39 libpcap-1.8.1 nmap-libdnet-1.12 ipv6\n",
            "Compiled without:\n",
            "Available nsock engines: epoll poll select\n"
          ],
          "name": "stdout"
        }
      ]
    },
    {
      "cell_type": "code",
      "metadata": {
        "id": "ee5LAQXWYMg9",
        "colab_type": "code",
        "colab": {
          "base_uri": "https://localhost:8080/",
          "height": 785
        },
        "outputId": "fa631178-ee8d-429f-8447-f022c09a2013"
      },
      "source": [
        "!nmap -A 103.133.165.32"
      ],
      "execution_count": 11,
      "outputs": [
        {
          "output_type": "stream",
          "text": [
            "\n",
            "Starting Nmap 7.60 ( https://nmap.org ) at 2020-05-06 14:38 UTC\n",
            "Nmap scan report for www.ewubd.edu (103.133.165.32)\n",
            "Host is up (0.099s latency).\n",
            "Not shown: 996 closed ports\n",
            "PORT    STATE    SERVICE  VERSION\n",
            "22/tcp  open     ssh      OpenSSH 7.7p1 Ubuntu 4ubuntu0.3 (Ubuntu Linux; protocol 2.0)\n",
            "| ssh-hostkey: \n",
            "|   2048 cc:40:da:92:04:4a:27:61:60:0b:ef:f4:6b:02:1e:37 (RSA)\n",
            "|   256 a3:a9:18:b2:6d:a8:e3:0c:be:77:7c:3a:0a:16:d3:c5 (ECDSA)\n",
            "|_  256 72:cf:49:4b:d5:7d:95:52:d6:bd:c3:77:c9:35:8a:0e (EdDSA)\n",
            "25/tcp  filtered smtp\n",
            "80/tcp  open     http     Apache httpd 2.4.34\n",
            "|_http-server-header: Apache/2.4.34 (Ubuntu)\n",
            "|_http-title: Did not follow redirect to https://www.ewubd.edu/\n",
            "443/tcp open     ssl/http Apache httpd 2.4.34 ((Ubuntu))\n",
            "|_http-server-header: Apache/2.4.34 (Ubuntu)\n",
            "|_http-title: 400 Bad Request\n",
            "| ssl-cert: Subject: commonName=*.ewubd.edu\n",
            "| Subject Alternative Name: DNS:*.ewubd.edu, DNS:ewubd.edu\n",
            "| Not valid before: 2020-02-26T00:00:00\n",
            "|_Not valid after:  2021-02-26T23:59:59\n",
            "|_ssl-date: TLS randomness does not represent time\n",
            "Device type: general purpose|storage-misc|firewall\n",
            "Running (JUST GUESSING): Linux 4.X|3.X|2.6.X (97%), Synology DiskStation Manager 5.X (88%), WatchGuard Fireware 11.X (88%)\n",
            "OS CPE: cpe:/o:linux:linux_kernel:4.4 cpe:/o:linux:linux_kernel:3 cpe:/o:linux:linux_kernel:2.6.32 cpe:/o:linux:linux_kernel cpe:/a:synology:diskstation_manager:5.1 cpe:/o:watchguard:fireware:11.8\n",
            "Aggressive OS guesses: Linux 4.4 (97%), Linux 4.0 (95%), Linux 3.11 - 4.1 (93%), Linux 2.6.32 (93%), Linux 2.6.32 or 3.10 (93%), Linux 3.10 - 3.12 (92%), Linux 2.6.32 - 2.6.35 (91%), Linux 3.13 (91%), Linux 2.6.32 - 2.6.39 (91%), Linux 2.6.32 - 3.0 (90%)\n",
            "No exact OS matches for host (test conditions non-ideal).\n",
            "Network Distance: 9 hops\n",
            "Service Info: Host: alumni.ewubd.edu; OS: Linux; CPE: cpe:/o:linux:linux_kernel\n",
            "\n",
            "TRACEROUTE (using port 23/tcp)\n",
            "HOP RTT       ADDRESS\n",
            "1   0.02 ms   172.28.0.1\n",
            "2   ... 3\n",
            "4   101.90 ms 103-9-114-1.aamratechnologies.com (103.9.114.43)\n",
            "5   99.88 ms  ANLGw.aamratechnologies.com (103.9.113.2)\n",
            "6   ...\n",
            "7   103.83 ms 182-160-104-242.aamranetworks.com (182.160.104.242)\n",
            "8   99.90 ms  103.133.164.2\n",
            "9   98.82 ms  www.ewubd.edu (103.133.165.32)\n",
            "\n",
            "OS and Service detection performed. Please report any incorrect results at https://nmap.org/submit/ .\n",
            "Nmap done: 1 IP address (1 host up) scanned in 304.59 seconds\n"
          ],
          "name": "stdout"
        }
      ]
    }
  ]
}